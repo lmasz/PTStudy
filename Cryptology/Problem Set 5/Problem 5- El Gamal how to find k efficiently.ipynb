{
 "cells": [
  {
   "cell_type": "code",
   "execution_count": 14,
   "metadata": {},
   "outputs": [
    {
     "name": "stdout",
     "output_type": "stream",
     "text": [
      "The autoreload extension is already loaded. To reload it, use:\n",
      "  %reload_ext autoreload\n"
     ]
    }
   ],
   "source": [
    "import sys\n",
    "sys.path.append('../')\n",
    "import crypto_utils as utils\n",
    "%load_ext autoreload\n",
    "%autoreload 2"
   ]
  },
  {
   "cell_type": "code",
   "execution_count": 15,
   "metadata": {},
   "outputs": [],
   "source": [
    "p = 31847\n",
    "g = 5\n",
    "beta = 25703"
   ]
  },
  {
   "cell_type": "code",
   "execution_count": 16,
   "metadata": {},
   "outputs": [],
   "source": [
    "m1 = 8990\n",
    "sig1 = (23972, 31396)\n",
    "m2 = 31415\n",
    "sig2 = (23972, 20481)"
   ]
  },
  {
   "cell_type": "code",
   "execution_count": 17,
   "metadata": {},
   "outputs": [
    {
     "name": "stdout",
     "output_type": "stream",
     "text": [
      "1165\n"
     ]
    }
   ],
   "source": [
    "# no hash function, therefore, for m, s = k^-1(m-ar) mod(p-1)\n",
    "# from handwritten notes we know: k = (s1-s2)^-1*(h(m1)-h(m2)) mod(p-1)\n",
    "# simplify h(m1) -> m1 and h(m2) -> m2\n",
    "s1_s2 = sig1[1]-sig2[1]\n",
    "s1_s2_inv = utils.mod_inverse(s1_s2, p-1)\n",
    "m1_m2 = m1 - m2\n",
    "k = (s1_s2_inv*m1_m2) % (p-1)\n",
    "print(k)"
   ]
  }
 ],
 "metadata": {
  "kernelspec": {
   "display_name": "Python 3",
   "language": "python",
   "name": "python3"
  },
  "language_info": {
   "codemirror_mode": {
    "name": "ipython",
    "version": 3
   },
   "file_extension": ".py",
   "mimetype": "text/x-python",
   "name": "python",
   "nbconvert_exporter": "python",
   "pygments_lexer": "ipython3",
   "version": "3.7.4"
  }
 },
 "nbformat": 4,
 "nbformat_minor": 2
}
