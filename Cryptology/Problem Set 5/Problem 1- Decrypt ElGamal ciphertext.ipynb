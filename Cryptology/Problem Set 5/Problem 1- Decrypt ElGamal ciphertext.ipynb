{
 "cells": [
  {
   "cell_type": "code",
   "execution_count": 12,
   "metadata": {},
   "outputs": [
    {
     "name": "stdout",
     "output_type": "stream",
     "text": [
      "The autoreload extension is already loaded. To reload it, use:\n",
      "  %reload_ext autoreload\n"
     ]
    }
   ],
   "source": [
    "import sys\n",
    "sys.path.append('../')\n",
    "import crypto_utils as utils\n",
    "%load_ext autoreload\n",
    "%autoreload 2"
   ]
  },
  {
   "cell_type": "code",
   "execution_count": 13,
   "metadata": {},
   "outputs": [],
   "source": [
    "# Exercise 7.9 of Stinson\n",
    "# parameters of system\n",
    "p = 31847\n",
    "alpha = 5\n",
    "a = 7899\n",
    "beta = 18074"
   ]
  },
  {
   "cell_type": "code",
   "execution_count": 14,
   "metadata": {},
   "outputs": [],
   "source": [
    "c1 = (3781, 14409)\n",
    "c2 = (31552, 3930)\n",
    "c3 = (27214, 15442)"
   ]
  },
  {
   "cell_type": "code",
   "execution_count": 15,
   "metadata": {},
   "outputs": [
    {
     "name": "stdout",
     "output_type": "stream",
     "text": [
      "23947\n",
      "6479\n",
      "25886\n",
      "4876\n"
     ]
    }
   ],
   "source": [
    "# First compute y = lambda^(p-1-a) (mod p)\n",
    "exp_part = p - 1 - a\n",
    "print(exp_part)\n",
    "y1 = utils.ModExp(c1[0], exp_part, p, False)\n",
    "y2 = utils.ModExp(c2[0], exp_part, p, False)\n",
    "y3 = utils.ModExp(c3[0], exp_part, p, False)\n",
    "print(y1)\n",
    "print(y2)\n",
    "print(y3)"
   ]
  },
  {
   "cell_type": "code",
   "execution_count": 16,
   "metadata": {},
   "outputs": [
    {
     "name": "stdout",
     "output_type": "stream",
     "text": [
      "12354\n",
      "12662\n",
      "8884\n"
     ]
    }
   ],
   "source": [
    "# Next compute y*symbol (mod p) = m (plaintext)\n",
    "m1 = y1*c1[1] % p\n",
    "m2 = y2*c2[1] % p\n",
    "m3 = y3*c3[1] % p\n",
    "print(m1)\n",
    "print(m2)\n",
    "print(m3)"
   ]
  },
  {
   "cell_type": "code",
   "execution_count": 17,
   "metadata": {},
   "outputs": [
    {
     "name": "stdout",
     "output_type": "stream",
     "text": [
      "S H E S T A N D S\n"
     ]
    }
   ],
   "source": [
    "full_text = utils.base26ish_2_word(m1) + \\\n",
    "utils.base26ish_2_word(m2) + \\\n",
    "utils.base26ish_2_word(m3)\n",
    "print(' '.join(let[0] for let in full_text))"
   ]
  }
 ],
 "metadata": {
  "kernelspec": {
   "display_name": "Python 3",
   "language": "python",
   "name": "python3"
  },
  "language_info": {
   "codemirror_mode": {
    "name": "ipython",
    "version": 3
   },
   "file_extension": ".py",
   "mimetype": "text/x-python",
   "name": "python",
   "nbconvert_exporter": "python",
   "pygments_lexer": "ipython3",
   "version": "3.7.4"
  }
 },
 "nbformat": 4,
 "nbformat_minor": 2
}
