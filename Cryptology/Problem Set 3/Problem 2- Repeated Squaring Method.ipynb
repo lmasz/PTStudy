{
 "cells": [
  {
   "cell_type": "code",
   "execution_count": 89,
   "metadata": {},
   "outputs": [
    {
     "name": "stdout",
     "output_type": "stream",
     "text": [
      "1001010100\n"
     ]
    }
   ],
   "source": [
    "# Class example\n",
    "a = 5\n",
    "k = 596\n",
    "k = str(bin(k))  # put it in binary\n",
    "k_vals = k.split('b')\n",
    "k_vals = k_vals[1]\n",
    "print(k_vals)\n",
    "\n",
    "n = 1234"
   ]
  },
  {
   "cell_type": "code",
   "execution_count": 90,
   "metadata": {},
   "outputs": [],
   "source": [
    "# Use the repeated squaring method to calculate 652^853 mod 4847"
   ]
  },
  {
   "cell_type": "code",
   "execution_count": 91,
   "metadata": {},
   "outputs": [
    {
     "name": "stdout",
     "output_type": "stream",
     "text": [
      "1101010101\n"
     ]
    }
   ],
   "source": [
    "a = 652\n",
    "k = 853\n",
    "k = str(bin(k))  # put it in binary\n",
    "k_vals = k.split('b')\n",
    "k_vals = k_vals[1]\n",
    "print(k_vals)\n",
    "n = 4847"
   ]
  },
  {
   "cell_type": "code",
   "execution_count": 92,
   "metadata": {},
   "outputs": [],
   "source": [
    "# ModExp(a,k,n)\n",
    "def ModExp(a,k,n):\n",
    "    b = 1\n",
    "    A = a\n",
    "    t = len(k_vals)\n",
    "    if k_vals[-1]=='1':\n",
    "        b = a\n",
    "    i = 1\n",
    "    while i < t:\n",
    "        A = A**2 % n\n",
    "        if k[-1-i] == '1':\n",
    "            b = (A*b) % n\n",
    "        print(\"i= \" +str(i)+\", a= \" +str(A)+ \", b= \" +str(b))\n",
    "        i += 1\n",
    "    return b"
   ]
  },
  {
   "cell_type": "code",
   "execution_count": 93,
   "metadata": {},
   "outputs": [
    {
     "name": "stdout",
     "output_type": "stream",
     "text": [
      "i= 1, a= 3415, b= 652\n",
      "i= 2, a= 343, b= 674\n",
      "i= 3, a= 1321, b= 674\n",
      "i= 4, a= 121, b= 4002\n",
      "i= 5, a= 100, b= 4002\n",
      "i= 6, a= 306, b= 3168\n",
      "i= 7, a= 1543, b= 3168\n",
      "i= 8, a= 972, b= 1451\n",
      "i= 9, a= 4466, b= 4574\n",
      "\n",
      "652^853 mod 4847 = 4574\n"
     ]
    }
   ],
   "source": [
    "print(\"\\n652^853 mod 4847 = \" + str(ModExp(a,k,n)))"
   ]
  }
 ],
 "metadata": {
  "kernelspec": {
   "display_name": "Python 3",
   "language": "python",
   "name": "python3"
  },
  "language_info": {
   "codemirror_mode": {
    "name": "ipython",
    "version": 3
   },
   "file_extension": ".py",
   "mimetype": "text/x-python",
   "name": "python",
   "nbconvert_exporter": "python",
   "pygments_lexer": "ipython3",
   "version": "3.7.4"
  }
 },
 "nbformat": 4,
 "nbformat_minor": 2
}
