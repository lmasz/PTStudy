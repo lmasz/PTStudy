{
 "cells": [
  {
   "cell_type": "code",
   "execution_count": 4,
   "metadata": {},
   "outputs": [
    {
     "name": "stdout",
     "output_type": "stream",
     "text": [
      "The autoreload extension is already loaded. To reload it, use:\n",
      "  %reload_ext autoreload\n"
     ]
    }
   ],
   "source": [
    "import sys\n",
    "sys.path.append('../')\n",
    "import crypto_utils as utils\n",
    "%load_ext autoreload\n",
    "%autoreload 2\n",
    "\n",
    "# probabilities of occurrence of 26 letters english alphabet\n",
    "eng_alph_probs = [.082, .015, .028, .043, .127, .022, .020, .061, .070, .002, .008, .040, .024, .067, .075, .019, .001, .060, .063, .091, .028, .010, .023, .001, .020, .001]\n",
    "alphabet = \"ABCDEFGHIJKLMNOPQRSTUVWXYZ\""
   ]
  },
  {
   "cell_type": "code",
   "execution_count": 5,
   "metadata": {},
   "outputs": [],
   "source": [
    "\"\"\"\n",
    "2.28 Decrypt the following ciphertext, obtained from the Autokey Cipher, by using exhaustive key search:\n",
    "MALVVMAFBHBUQPTSOXALTGVWWRG\n",
    "\"\"\"\n",
    "cipher_text = \"MALVVMAFBHBUQPTSOXALTGVWWRG\""
   ]
  },
  {
   "cell_type": "code",
   "execution_count": 6,
   "metadata": {},
   "outputs": [
    {
     "name": "stdout",
     "output_type": "stream",
     "text": [
      "A plaintext: \n",
      "M O X Y X P L U H A B T X S B R X A A L I Y X Z X U M\n",
      "B plaintext: \n",
      "L P W Z W Q K V G B A U W T A S W B Z M H Z W A W V L\n",
      "C plaintext: \n",
      "K Q V A V R J W F C Z V V U Z T V C Y N G A V B V W K\n",
      "D plaintext: \n",
      "J R U B U S I X E D Y W U V Y U U D X O F B U C U X J\n",
      "E plaintext: \n",
      "I S T C T T H Y D E X X T W X V T E W P E C T D T Y I\n",
      "F plaintext: \n",
      "H T S D S U G Z C F W Y S X W W S F V Q D D S E S Z H\n",
      "G plaintext: \n",
      "G U R E R V F A B G V Z R Y V X R G U R C E R F R A G\n",
      "H plaintext: \n",
      "F V Q F Q W E B A H U A Q Z U Y Q H T S B F Q G Q B F\n",
      "I plaintext: \n",
      "E W P G P X D C Z I T B P A T Z P I S T A G P H P C E\n",
      "J plaintext: \n",
      "D X O H O Y C D Y J S C O B S A O J R U Z H O I O D D\n",
      "K plaintext: \n",
      "C Y N I N Z B E X K R D N C R B N K Q V Y I N J N E C\n",
      "L plaintext: \n",
      "B Z M J M A A F W L Q E M D Q C M L P W X J M K M F B\n",
      "M plaintext: \n",
      "A A L K L B Z G V M P F L E P D L M O X W K L L L G A\n",
      "N plaintext: \n",
      "Z B K L K C Y H U N O G K F O E K N N Y V L K M K H Z\n",
      "O plaintext: \n",
      "Y C J M J D X I T O N H J G N F J O M Z U M J N J I Y\n",
      "P plaintext: \n",
      "X D I N I E W J S P M I I H M G I P L A T N I O I J X\n",
      "Q plaintext: \n",
      "W E H O H F V K R Q L J H I L H H Q K B S O H P H K W\n",
      "R plaintext: \n",
      "V F G P G G U L Q R K K G J K I G R J C R P G Q G L V\n",
      "S plaintext: \n",
      "U G F Q F H T M P S J L F K J J F S I D Q Q F R F M U\n",
      "T plaintext: \n",
      "T H E R E I S N O T I M E L I K E T H E P R E S E N T\n",
      "U plaintext: \n",
      "S I D S D J R O N U H N D M H L D U G F O S D T D O S\n",
      "V plaintext: \n",
      "R J C T C K Q P M V G O C N G M C V F G N T C U C P R\n",
      "W plaintext: \n",
      "Q K B U B L P Q L W F P B O F N B W E H M U B V B Q Q\n",
      "X plaintext: \n",
      "P L A V A M O R K X E Q A P E O A X D I L V A W A R P\n",
      "Y plaintext: \n",
      "O M Z W Z N N S J Y D R Z Q D P Z Y C J K W Z X Z S O\n",
      "Z plaintext: \n",
      "N N Y X Y O M T I Z C S Y R C Q Y Z B K J X Y Y Y T N\n"
     ]
    }
   ],
   "source": [
    "numeric_string = [0]*len(cipher_text)\n",
    "\n",
    "for i in range(len(cipher_text)):\n",
    "  numeric_string[i] = alphabet.index(cipher_text[i])\n",
    "\n",
    "# do for keys from 0 to 26.\n",
    "k = 0\n",
    "\n",
    "while k < 26:\n",
    "\n",
    "  # x1 = d_k(first numeric string) = (first numeric string - k) mod 26\n",
    "  # x2 = d_x1(second numeric string) = (second numeric string - k) mod 26\n",
    "  # x3 = d_x2(third ....)\n",
    "\n",
    "  x_outs = [0]*len(cipher_text)\n",
    "\n",
    "  for i in range(len(x_outs)):\n",
    "    # calculate current x\n",
    "    if i==0:  # first iteration\n",
    "      k_curr = k\n",
    "    else:\n",
    "      k_curr = x_outs[i-1]\n",
    "\n",
    "    curr_x = (int(numeric_string[i]) - k_curr) % 26\n",
    "    x_outs[i] = curr_x\n",
    "\n",
    "  decoded_text = [0]*len(cipher_text)\n",
    "  # turn back into plain english\n",
    "  for i in range(len(cipher_text)):\n",
    "    decoded_text[i] = alphabet[x_outs[i]]\n",
    "\n",
    "  print(alphabet[k] + \" plaintext: \")\n",
    "  print(' '.join(decoded_text))\n",
    "  k += 1"
   ]
  }
 ],
 "metadata": {
  "kernelspec": {
   "display_name": "Python 3",
   "language": "python",
   "name": "python3"
  },
  "language_info": {
   "codemirror_mode": {
    "name": "ipython",
    "version": 3
   },
   "file_extension": ".py",
   "mimetype": "text/x-python",
   "name": "python",
   "nbconvert_exporter": "python",
   "pygments_lexer": "ipython3",
   "version": "3.7.4"
  }
 },
 "nbformat": 4,
 "nbformat_minor": 2
}
