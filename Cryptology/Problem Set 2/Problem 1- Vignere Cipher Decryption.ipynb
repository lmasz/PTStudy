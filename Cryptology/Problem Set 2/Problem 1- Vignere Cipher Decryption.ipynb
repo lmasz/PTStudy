{
 "cells": [
  {
   "cell_type": "code",
   "execution_count": 8,
   "metadata": {},
   "outputs": [
    {
     "name": "stdout",
     "output_type": "stream",
     "text": [
      "The autoreload extension is already loaded. To reload it, use:\n",
      "  %reload_ext autoreload\n"
     ]
    }
   ],
   "source": [
    "import sys\n",
    "sys.path.append('../')\n",
    "import crypto_utils as utils\n",
    "%load_ext autoreload\n",
    "%autoreload 2\n",
    "\n",
    "# probabilities of occurrence of 26 letters english alphabet\n",
    "eng_alph_probs = [.082, .015, .028, .043, .127, .022, .020, .061, .070, .002, .008, .040, .024, .067, .075, .019, .001, .060, .063, .091, .028, .010, .023, .001, .020, .001]\n",
    "alphabet = \"ABCDEFGHIJKLMNOPQRSTUVWXYZ\""
   ]
  },
  {
   "cell_type": "code",
   "execution_count": 10,
   "metadata": {},
   "outputs": [],
   "source": [
    "cipher_text = \"JSJTEWXQVRFLOSNJRXCFXJSYTQZMNZFYILLGKRXNGJVVRMIMWGOAIBWOPSJYBSXVVRDQGYNROJWGQKBTTOLSPHBYBWTNOVSCFXJSAJQKRQKGTLMRVVRFHLINCCJUFLQIEQULITVRBUKGTCHHBWHKBGMYKRQKVSNZIFFLHLWIMPRIBWAGBGKIJACFQTHCRGSFFHVINPBBMSRFKUJHZITSNHBWHVVRQUKXQTGMYKQCZYIUJOLIANJWVVFRJMZIEFBZWZIFEHNYLPAHBXNWEFMUNMTVGOGMUFHVVRSLSMUSQMCEWGZSXFGANMNSXDSQYRIIMXVVRDQWVGFHSHARICAYBWTNOVSBSVTMVSALLGOAYYDSRSNSXLLGOAYYDSRSZTPWHNWXJJZEPHBRMARVVRXHGACBQHCJGNSQFHVAJSRQYVEPRGMYVVADBBXWVDZRBUTSWHGMYEMPHUJWGPFABTHDMIVGFHVXJSVWVJICHUXGGOGRCFFWPAWAYBWGQZQFMAJVVRDVMVPSQBCLLUCZJCFRGFSNLWEPRGMYOSNJRXNOMUHRIUFHVIESYVEPRYJUHXKBNXCDIPQRXOULVVNYNZIAGRJGWHQTNSILLGFJTLDHGBGNLWXJSLRINIFRBBHLLGJNQFWCCBQYOJRGRNSXESXSQKUJSWHBSNZIRZNNHMRVWYYBWCYSEJNZIUANQFWWVCSKCYYTSFNHLLCHQNGOLKHRSYKWCBQYBWRVVRDXAWCDCJUJIF\""
   ]
  },
  {
   "cell_type": "code",
   "execution_count": 11,
   "metadata": {},
   "outputs": [],
   "source": [
    "# utils.index_of_coincidence('t', '6')"
   ]
  },
  {
   "cell_type": "code",
   "execution_count": 12,
   "metadata": {},
   "outputs": [
    {
     "name": "stdout",
     "output_type": "stream",
     "text": [
      "0.07130494980962272\n",
      "0.06894727561276671\n",
      "0.08587550696526186\n",
      "0.06894727561276671\n",
      "0.06330453182860166\n",
      "0.08040909892435197\n",
      "0.06577323223417388\n"
     ]
    }
   ],
   "source": [
    "k = 7\n",
    "[y1,y2,y3,y4,y5,y6,y7] = utils.calc_ys(k, cipher_text)\n",
    "print(utils.index_of_coincidence(y1))\n",
    "print(utils.index_of_coincidence(y2))\n",
    "print(utils.index_of_coincidence(y3))\n",
    "print(utils.index_of_coincidence(y4))\n",
    "print(utils.index_of_coincidence(y5))\n",
    "print(utils.index_of_coincidence(y6))\n",
    "print(utils.index_of_coincidence(y7))"
   ]
  },
  {
   "cell_type": "code",
   "execution_count": 13,
   "metadata": {},
   "outputs": [
    {
     "name": "stdout",
     "output_type": "stream",
     "text": [
      "y1-\n",
      "A-G: 0.03 0.039 0.068 0.036 0.032 0.036 0.04\n",
      "H-N: 0.033 0.038 0.045 0.03 0.033 0.037 0.053\n",
      "O-U: 0.037 0.041 0.03 0.047 0.038 0.033 0.035\n",
      "V-Z: 0.041 0.035 0.032 0.046 0.036\n",
      "y2-\n",
      "A-G: 0.039 0.044 0.034 0.044 0.042 0.036 0.032\n",
      "H-N: 0.043 0.036 0.03 0.045 0.035 0.029 0.041\n",
      "O-U: 0.065 0.035 0.031 0.045 0.042 0.031 0.032\n",
      "V-Z: 0.041 0.031 0.036 0.034 0.047\n",
      "y3-\n",
      "A-G: 0.041 0.029 0.043 0.043 0.035 0.034 0.039\n",
      "H-N: 0.03 0.032 0.053 0.039 0.026 0.038 0.072\n",
      "O-U: 0.041 0.03 0.033 0.042 0.029 0.033 0.037\n",
      "V-Z: 0.033 0.031 0.039 0.053 0.046\n",
      "y4-\n",
      "A-G: 0.035 0.045 0.03 0.028 0.041 0.067 0.038\n",
      "H-N: 0.029 0.033 0.043 0.041 0.035 0.039 0.032\n",
      "O-U: 0.038 0.038 0.047 0.035 0.036 0.04 0.047\n",
      "V-Z: 0.037 0.03 0.037 0.037 0.043\n",
      "y5-\n",
      "A-G: 0.034 0.041 0.036 0.042 0.035 0.04 0.036\n",
      "H-N: 0.044 0.039 0.046 0.036 0.031 0.033 0.04\n",
      "O-U: 0.039 0.034 0.049 0.031 0.029 0.043 0.065\n",
      "V-Z: 0.034 0.03 0.039 0.044 0.032\n",
      "y6-\n",
      "A-G: 0.032 0.031 0.037 0.05 0.039 0.042 0.036\n",
      "H-N: 0.044 0.045 0.036 0.033 0.041 0.031 0.028\n",
      "O-U: 0.044 0.035 0.028 0.042 0.071 0.039 0.03\n",
      "V-Z: 0.041 0.047 0.03 0.034 0.037\n",
      "y7-\n",
      "A-G: 0.048 0.032 0.029 0.044 0.066 0.036 0.031\n",
      "H-N: 0.041 0.042 0.034 0.036 0.036 0.029 0.038\n",
      "O-U: 0.042 0.047 0.036 0.04 0.038 0.044 0.039\n",
      "V-Z: 0.034 0.032 0.038 0.036 0.034\n"
     ]
    }
   ],
   "source": [
    "# now calculate Mg(y)s\n",
    "print(\"y1-\")\n",
    "utils.calc_M(y1)  # C looks like first letter with 0.068\n",
    "print(\"y2-\")\n",
    "utils.calc_M(y2)  # O looks promising here 0.065\n",
    "print(\"y3-\")\n",
    "utils.calc_M(y3)  # N here 0.072\n",
    "print(\"y4-\")\n",
    "utils.calc_M(y4)  # F here 0.067\n",
    "print(\"y5-\")\n",
    "utils.calc_M(y5)  # U here 0.065\n",
    "print(\"y6-\")\n",
    "utils.calc_M(y6)  # S here 0.071\n",
    "print(\"y7-\")\n",
    "utils.calc_M(y7)  # E here 0.066\n",
    "# keyword is CONFUSE"
   ]
  },
  {
   "cell_type": "code",
   "execution_count": 14,
   "metadata": {},
   "outputs": [
    {
     "name": "stdout",
     "output_type": "stream",
     "text": [
      "HEWOKETOHEARWOLVESINTHELOWHILLSTOTHEWESTOFTHEHOUSEANDHEKNEWTHATTHEYWOULDBECOMINGOUTONTOTHEPLAININTHENEWSNOWTORUNTHEANTELOPEANHOURLATERHEWASCROUCHEDINTHESNOWINTHEDRYCREEKBEDHEWENTFORWARDONKNEESANDELBOWSANDWHENHEREACHEDTHELASTOFTHESMALLDARKJUNIPERTREESHECROUCHEDQUIETLYTOSTEADYHISBREATHANDTHENRAISEDHIMSELFSLOWLYANDLOOKEDOUTTHEYWERERUNNINGONTHEPLAINHARRYINGTHEANTELOPEANDTHEANTELOPEMOVEDLIKEPHANTOMSINTHESNOWANDCIRCLEDANDWHEELEDANDTHEDRYPOWDERBLEWABOUTTHEMINTHECOLDMOONLIGHTANDTHEIRBREATHSMOKEDPALELYINTHECOLDASIFTHEYBURNEDWITHSOMEINNERFIREANDTHEWOLVESTWISTEDANDTURNEDANDLEAPTINASILENCESUCHTHATTHEYSEEMEDOFANOTHERWORLDENTIRETHEYMOVEDDOWNTHEVALLEYANDTURNEDANDMOVEDFAROUTONTHEPLAINUNTILTHEYWERETHESMALLESTOFFIGURESINTHATDIMWHITENESSANDTHENTHEYDISAPPEARED\n"
     ]
    }
   ],
   "source": [
    "shift = [alphabet.index(\"C\"), alphabet.index(\"O\"), alphabet.index(\"N\"), alphabet.index(\"F\"), alphabet.index(\"U\"), alphabet.index(\"S\"), alphabet.index(\"E\")]\n",
    "numerical_cipher_text = [0]*len(cipher_text)\n",
    "for letter in range(len(cipher_text)):\n",
    "  numerical_cipher_text[letter] = alphabet.index(cipher_text[letter])\n",
    "\n",
    "# decrypt using keyword\n",
    "for dec_let in range(len(numerical_cipher_text)):\n",
    "  if dec_let % 7 == 0:\n",
    "    numerical_cipher_text[dec_let:dec_let+7] = [(x - y)%26 for x, y in zip(numerical_cipher_text[dec_let:dec_let+7], shift)]\n",
    "\n",
    "for i in range(len(numerical_cipher_text)):\n",
    "  numerical_cipher_text[i] = alphabet[numerical_cipher_text[i]]\n",
    "\n",
    "print(''.join(numerical_cipher_text))"
   ]
  }
 ],
 "metadata": {
  "kernelspec": {
   "display_name": "Python 3",
   "language": "python",
   "name": "python3"
  },
  "language_info": {
   "codemirror_mode": {
    "name": "ipython",
    "version": 3
   },
   "file_extension": ".py",
   "mimetype": "text/x-python",
   "name": "python",
   "nbconvert_exporter": "python",
   "pygments_lexer": "ipython3",
   "version": "3.7.4"
  }
 },
 "nbformat": 4,
 "nbformat_minor": 2
}
