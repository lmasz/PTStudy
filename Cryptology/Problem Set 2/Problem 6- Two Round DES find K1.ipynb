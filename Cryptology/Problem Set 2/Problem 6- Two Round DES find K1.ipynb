{
 "cells": [
  {
   "cell_type": "code",
   "execution_count": 1,
   "metadata": {},
   "outputs": [],
   "source": [
    "import sys\n",
    "sys.path.append('../')\n",
    "import crypto_utils as utils"
   ]
  },
  {
   "cell_type": "code",
   "execution_count": 2,
   "metadata": {},
   "outputs": [],
   "source": [
    "M = '1110100101110101001110101101010101110111010111010111110010010100'\n",
    "C = '1011111111100000101001000111111010000000010011101011110110110001'\n",
    "L0 = M[:32]\n",
    "R0 = M[32:]\n",
    "L2 = C[:32]\n",
    "R2 = C[32:]"
   ]
  },
  {
   "cell_type": "code",
   "execution_count": 3,
   "metadata": {},
   "outputs": [],
   "source": [
    "L2_xor_L0 = utils.xor(L2,L0)"
   ]
  },
  {
   "cell_type": "code",
   "execution_count": 4,
   "metadata": {},
   "outputs": [],
   "source": [
    "# So what I want to calculate is K1 from equation L2 xor L0 = f(R0, K1)\n",
    "# Need to do E(R0). Also need to do invS(invP(L2 xor L0))\n",
    "# Then will have E(R0) xor K1 = invS(invP(L2 xor L0))"
   ]
  },
  {
   "cell_type": "code",
   "execution_count": 5,
   "metadata": {},
   "outputs": [
    {
     "name": "stdout",
     "output_type": "stream",
     "text": [
      "['0', '0', '1', '1', '1', '0']\n"
     ]
    }
   ],
   "source": [
    "# E(R0), will only need first six bits (thanks Dave for not making us do the whole thing)\n",
    "E_R0 = [R0[-1], R0[0], R0[1], R0[2], R0[3], R0[4]]\n",
    "print(E_R0)"
   ]
  },
  {
   "cell_type": "code",
   "execution_count": 6,
   "metadata": {},
   "outputs": [
    {
     "name": "stdout",
     "output_type": "stream",
     "text": [
      "['1', '1', '1', '1']\n"
     ]
    }
   ],
   "source": [
    "# Doing the inverse P, I will just look in the table for the 1,2,3,4 of P\n",
    "# Those are located at 8, 16, 22, 30 (0 indexed)\n",
    "invP = [L2_xor_L0[8], L2_xor_L0[16], L2_xor_L0[22], L2_xor_L0[30]]\n",
    "print(invP)"
   ]
  },
  {
   "cell_type": "code",
   "execution_count": 7,
   "metadata": {},
   "outputs": [
    {
     "name": "stdout",
     "output_type": "stream",
     "text": [
      "Possibility 1: 000100\n",
      "Possibility 2: 001101\n",
      "Possibility 3: 111110\n",
      "Possibility 4: 101111\n"
     ]
    }
   ],
   "source": [
    "# invP(L2 xor L0) = (1111)_2 = 15 = output of S1\n",
    "# S1 possibilities are (0,5), (1,1), (2,8), (3,0)\n",
    "# (0,5) = (00)_2, (0101)_2 = 001010\n",
    "# (1,1) = (01)_2, (0001)_2 = 000011\n",
    "# (2,8) = (10)_2, (1000)_2 = 110000\n",
    "# (3,0) = (11)_2, (0000)_2 = 100001\n",
    "# Those are the possible strings before S1. One of those is equal to E(R0) xor K1\n",
    "# Therefore to get the possibilities for K1, I just need to xor each possibility with E(R0)\n",
    "print(\"Possibility 1: \" + ''.join(utils.xor('001010', E_R0)))\n",
    "print(\"Possibility 2: \" + ''.join(utils.xor('000011', E_R0)))\n",
    "print(\"Possibility 3: \" + ''.join(utils.xor('110000', E_R0)))\n",
    "print(\"Possibility 4: \" + ''.join(utils.xor('100001', E_R0)))"
   ]
  },
  {
   "cell_type": "code",
   "execution_count": 8,
   "metadata": {},
   "outputs": [],
   "source": [
    "# The above output is the possibilities for K1"
   ]
  }
 ],
 "metadata": {
  "kernelspec": {
   "display_name": "Python 3",
   "language": "python",
   "name": "python3"
  },
  "language_info": {
   "codemirror_mode": {
    "name": "ipython",
    "version": 3
   },
   "file_extension": ".py",
   "mimetype": "text/x-python",
   "name": "python",
   "nbconvert_exporter": "python",
   "pygments_lexer": "ipython3",
   "version": "3.7.4"
  }
 },
 "nbformat": 4,
 "nbformat_minor": 2
}
