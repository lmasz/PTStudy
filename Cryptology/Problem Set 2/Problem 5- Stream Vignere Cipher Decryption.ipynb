{
 "cells": [
  {
   "cell_type": "code",
   "execution_count": 5,
   "metadata": {},
   "outputs": [
    {
     "name": "stdout",
     "output_type": "stream",
     "text": [
      "The autoreload extension is already loaded. To reload it, use:\n",
      "  %reload_ext autoreload\n"
     ]
    }
   ],
   "source": [
    "import sys\n",
    "sys.path.append('../')\n",
    "import crypto_utils as utils\n",
    "%load_ext autoreload\n",
    "%autoreload 2\n",
    "\n",
    "# probabilities of occurrence of 26 letters english alphabet\n",
    "eng_alph_probs = [.082, .015, .028, .043, .127, .022, .020, .061, .070, .002, .008, .040, .024, .067, .075, .019, .001, .060, .063, .091, .028, .010, .023, .001, .020, .001]\n",
    "alphabet = \"ABCDEFGHIJKLMNOPQRSTUVWXYZ\""
   ]
  },
  {
   "cell_type": "code",
   "execution_count": 6,
   "metadata": {},
   "outputs": [
    {
     "data": {
      "text/plain": [
       "\"\\nThis problem is based on Stinson's problem 2.29 p.58.\\nFirst I need to use a similar technique to what I did in problem 1. The main adjustment I need to make is when building my y1,y2,etc. They are supposed to still be representative of the letter frequencies in the alphabet overall. But I need to account for the incrementing of the key. So for example: if I'm checking a potential key length of 4 to see what the IC's of the y's are, I add first character to y1, second to y2, third to y3, and fourth to y4. Next in a normal Vignere I would add the fifth to y1, however, I know the keyword has been incremented. So I need to add a character one less than that to account for the shift in keyword. When I get around to the ninth character, I need to subtract the character by two before adding to y1 to preserve the appropriate character frequencies. This worked and I discovered my key length is 6.\\n\""
      ]
     },
     "execution_count": 6,
     "metadata": {},
     "output_type": "execute_result"
    }
   ],
   "source": [
    "cipher_text = \"TOSIEBCBBPKZINTEKMKEZTIBIMTSXMFADGZETGXIQWUQSVFTVCPWRSQHGXLLBVGFBDIWKDTBJXDFLBKVLSWEMMGONFAKIHTZXRNLPHCCTJAVWNSKMMUTEHCDBVJLPJWPFPXTGHWSGBBSORPJLSFEIDWNXTUZKLEHLPYEFHXNGUUMBNCRHIXVMZVLCGDAXMOWDCCICSUFQMGJOSIARGYIVOHLQIMJPWOACFDJHDXIVPGWVXLTAZAPYTMIHRTYRDBXOWCFVSLHCZEYNTUNEVBIBSETLJWPFQQEEOECFFOEUEVZWWKSWPXAOGXFGNAVZABEFHZTICODZHEWKFQO\"\n",
    "\n",
    "\"\"\"\n",
    "This problem is based on Stinson's problem 2.29 p.58.\n",
    "First I need to use a similar technique to what I did in problem 1. The main adjustment I need to make is when building my y1,y2,etc. They are supposed to still be representative of the letter frequencies in the alphabet overall. But I need to account for the incrementing of the key. So for example: if I'm checking a potential key length of 4 to see what the IC's of the y's are, I add first character to y1, second to y2, third to y3, and fourth to y4. Next in a normal Vignere I would add the fifth to y1, however, I know the keyword has been incremented. So I need to add a character one less than that to account for the shift in keyword. When I get around to the ninth character, I need to subtract the character by two before adding to y1 to preserve the appropriate character frequencies. This worked and I discovered my key length is 6.\n",
    "\"\"\""
   ]
  },
  {
   "cell_type": "code",
   "execution_count": 7,
   "metadata": {},
   "outputs": [
    {
     "name": "stdout",
     "output_type": "stream",
     "text": [
      "k= 6\n",
      "0.061038961038961045\n",
      "0.060389610389610396\n",
      "0.0551948051948052\n",
      "0.062337662337662345\n",
      "0.07532467532467534\n",
      "0.04870129870129871\n"
     ]
    }
   ],
   "source": [
    "k = 6  # looks to be the appropriate keyword\n",
    "\n",
    "print(\"k= \"+ str(k))\n",
    "[y1,y2,y3,y4,y5,y6,y7] = utils.calc_ys_mod(k, cipher_text)\n",
    "print(utils.index_of_coincidence(y1))\n",
    "print(utils.index_of_coincidence(y2))\n",
    "print(utils.index_of_coincidence(y3))\n",
    "print(utils.index_of_coincidence(y4))\n",
    "print(utils.index_of_coincidence(y5))\n",
    "print(utils.index_of_coincidence(y6))\n",
    "# print(utils.index_of_coincidence(y7))"
   ]
  },
  {
   "cell_type": "code",
   "execution_count": 8,
   "metadata": {},
   "outputs": [
    {
     "name": "stdout",
     "output_type": "stream",
     "text": [
      "y1-\n",
      "A-G: 0.041 0.031 0.033 0.038 0.042 0.037 0.045\n",
      "H-N: 0.036 0.036 0.042 0.041 0.033 0.03 0.047\n",
      "O-U: 0.031 0.041 0.037 0.033 0.03 0.06 0.048\n",
      "V-Z: 0.033 0.036 0.048 0.034 0.039\n",
      "y2-\n",
      "A-G: 0.04 0.037 0.032 0.042 0.034 0.035 0.04\n",
      "H-N: 0.063 0.038 0.035 0.04 0.039 0.028 0.041\n",
      "O-U: 0.036 0.032 0.041 0.041 0.042 0.036 0.05\n",
      "V-Z: 0.038 0.038 0.039 0.034 0.029\n",
      "y3-\n",
      "A-G: 0.049 0.026 0.025 0.037 0.056 0.037 0.034\n",
      "H-N: 0.044 0.04 0.037 0.037 0.046 0.035 0.037\n",
      "O-U: 0.036 0.038 0.033 0.038 0.043 0.046 0.036\n",
      "V-Z: 0.027 0.044 0.038 0.045 0.037\n",
      "y4-\n",
      "A-G: 0.037 0.047 0.047 0.046 0.03 0.027 0.041\n",
      "H-N: 0.042 0.032 0.032 0.044 0.029 0.032 0.043\n",
      "O-U: 0.066 0.037 0.036 0.036 0.041 0.033 0.041\n",
      "V-Z: 0.039 0.03 0.034 0.038 0.041\n",
      "y5-\n",
      "A-G: 0.028 0.037 0.04 0.032 0.038 0.056 0.052\n",
      "H-N: 0.042 0.029 0.036 0.037 0.039 0.03 0.037\n",
      "O-U: 0.03 0.027 0.052 0.063 0.043 0.025 0.046\n",
      "V-Z: 0.049 0.038 0.029 0.04 0.027\n",
      "y6-\n",
      "A-G: 0.03 0.038 0.044 0.031 0.037 0.041 0.038\n",
      "H-N: 0.035 0.039 0.039 0.039 0.042 0.042 0.042\n",
      "O-U: 0.036 0.033 0.034 0.042 0.035 0.034 0.04\n",
      "V-Z: 0.035 0.035 0.041 0.062 0.037\n"
     ]
    }
   ],
   "source": [
    "# now calculate Mg(y)s\n",
    "print(\"y1-\")\n",
    "utils.calc_M(y1)  # T? 0.06\n",
    "print(\"y2-\")\n",
    "utils.calc_M(y2)  # H? 0.063\n",
    "print(\"y3-\")\n",
    "utils.calc_M(y3)  # E? 0.056\n",
    "print(\"y4-\")\n",
    "utils.calc_M(y4)  # O? 0.066\n",
    "print(\"y5-\")\n",
    "utils.calc_M(y5)  # R? 0.063\n",
    "print(\"y6-\")\n",
    "utils.calc_M(y6)  # y? 0.062\n",
    "# print(\"y7-\")\n",
    "# utils.calc_M(y7)  # E here 0.066"
   ]
  },
  {
   "cell_type": "code",
   "execution_count": 9,
   "metadata": {},
   "outputs": [
    {
     "name": "stdout",
     "output_type": "stream",
     "text": [
      "AHOUNDITWASANENORMOUSCOALBLACKHOUNDBUTNOTSUCHAHOUNDASMORTALEYESHAVEEVERSEENFIREBURSTFROMITSOPENMOUTHITSEYESGLOWEDWITHASMOULDERINGGLAREWITHLONGBOUNDSTHEHUGECREATUREWASFOLLOWINGHARDUPONTHEFOOTSTEPSOFOURFRIENDWESAWSIRHENRYLOOKINGBACKHISFACEWHITEINTHEMOONLIGHTHISHANDSRAISEDINHORRORGLARINGHELPLESSLYATTHEFRIGHTFULTHINGWHICHWASHUNTINGHIMDOWN\n"
     ]
    }
   ],
   "source": [
    "# keyword is THEORY\n",
    "# Now another change needs to be made so that every time the shift is used (i.e. every k=6 letters), the values in the array are incremented by one\n",
    "shift = [alphabet.index(\"T\"), alphabet.index(\"H\"), alphabet.index(\"E\"), alphabet.index(\"O\"), alphabet.index(\"R\"), alphabet.index(\"Y\")]\n",
    "numerical_cipher_text = [0]*len(cipher_text)\n",
    "for letter in range(len(cipher_text)):\n",
    "  numerical_cipher_text[letter] = alphabet.index(cipher_text[letter])\n",
    "\n",
    "# decrypt using keyword\n",
    "for dec_let in range(len(numerical_cipher_text)):\n",
    "  if dec_let % k == 0:\n",
    "    numerical_cipher_text[dec_let:dec_let+k] = [(x - y)%26 for x, y in zip(numerical_cipher_text[dec_let:dec_let+k], shift)]\n",
    "    shift = [x+y for x,y in zip(shift, [1,1,1,1,1,1])]\n",
    "\n",
    "for i in range(len(numerical_cipher_text)):\n",
    "  numerical_cipher_text[i] = alphabet[numerical_cipher_text[i]]\n",
    "\n",
    "print(''.join(numerical_cipher_text))"
   ]
  }
 ],
 "metadata": {
  "kernelspec": {
   "display_name": "Python 3",
   "language": "python",
   "name": "python3"
  },
  "language_info": {
   "codemirror_mode": {
    "name": "ipython",
    "version": 3
   },
   "file_extension": ".py",
   "mimetype": "text/x-python",
   "name": "python",
   "nbconvert_exporter": "python",
   "pygments_lexer": "ipython3",
   "version": "3.7.4"
  }
 },
 "nbformat": 4,
 "nbformat_minor": 2
}
