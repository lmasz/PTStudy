{
 "cells": [
  {
   "cell_type": "code",
   "execution_count": 28,
   "metadata": {},
   "outputs": [
    {
     "name": "stdout",
     "output_type": "stream",
     "text": [
      "The autoreload extension is already loaded. To reload it, use:\n",
      "  %reload_ext autoreload\n"
     ]
    }
   ],
   "source": [
    "import sys\n",
    "sys.path.append('../')\n",
    "import crypto_utils as utils\n",
    "%load_ext autoreload\n",
    "%autoreload 2"
   ]
  },
  {
   "cell_type": "code",
   "execution_count": 29,
   "metadata": {},
   "outputs": [
    {
     "name": "stdout",
     "output_type": "stream",
     "text": [
      "If Alice uses only the numbers 0-25 and maps the letters directly corresponding to how the English alphabet is ordered, then the message can be easily decrypted. You can simply encrypt all the numbers 0-25 and that's the complete alphabet of possible ciphertexts. Then just work backwards from the ciphertexts. For example the first ciphertext number is 365, which corresponds to 21, which is letter V.\n"
     ]
    }
   ],
   "source": [
    "# Part a explanation of how Oscar can easily decrypt these messages:\n",
    "print(\"If Alice uses only the numbers 0-25 and maps the letters directly corresponding to how the English alphabet is ordered, then the message can be easily decrypted. You can simply encrypt all the numbers 0-25 and that's the complete alphabet of possible ciphertexts. Then just work backwards from the ciphertexts. For example the first ciphertext number is 365, which corresponds to 21, which is letter V.\")"
   ]
  },
  {
   "cell_type": "code",
   "execution_count": 30,
   "metadata": {},
   "outputs": [
    {
     "name": "stdout",
     "output_type": "stream",
     "text": [
      "A=0\n",
      "B=1\n",
      "C=6400\n",
      "D=18718\n",
      "E=17173\n",
      "F=1759\n",
      "G=18242\n",
      "H=12359\n",
      "I=14930\n",
      "J=9\n",
      "K=6279\n",
      "L=2608\n",
      "M=4644\n",
      "N=4845\n",
      "O=1375\n",
      "P=13444\n",
      "Q=16\n",
      "R=13663\n",
      "S=1437\n",
      "T=2940\n",
      "U=10334\n",
      "V=365\n",
      "W=10789\n",
      "X=8945\n",
      "Y=11373\n",
      "Z=5116\n"
     ]
    }
   ],
   "source": [
    "# I became in, potentially messed up order problem 1\n",
    "n = 18721\n",
    "b = 25\n",
    "# vanilla, problem 2\n",
    "alphabet = \"ABCDEFGHIJKLMNOPQRSTUVWXYZ\"\n",
    "\n",
    "for i in range(26):\n",
    "    print(alphabet[i] + '=' + str(utils.rsa_encrypt(i, b, n)))"
   ]
  },
  {
   "cell_type": "code",
   "execution_count": 31,
   "metadata": {},
   "outputs": [],
   "source": [
    "# 365, 0, 4845, 14930, 2608, 2608, 0\n",
    "# V, A, N, I, L, L, A"
   ]
  }
 ],
 "metadata": {
  "kernelspec": {
   "display_name": "Python 3",
   "language": "python",
   "name": "python3"
  },
  "language_info": {
   "codemirror_mode": {
    "name": "ipython",
    "version": 3
   },
   "file_extension": ".py",
   "mimetype": "text/x-python",
   "name": "python",
   "nbconvert_exporter": "python",
   "pygments_lexer": "ipython3",
   "version": "3.7.4"
  }
 },
 "nbformat": 4,
 "nbformat_minor": 2
}
