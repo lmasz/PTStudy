{
 "cells": [
  {
   "cell_type": "code",
   "execution_count": 1,
   "metadata": {},
   "outputs": [],
   "source": [
    "n = 13\n",
    "Z_star_13 = [2,3,4,5,6,7,8,9,10,11,12]\n",
    "phi_13 = 12\n",
    "# should have phi_12 = 4 generators"
   ]
  },
  {
   "cell_type": "code",
   "execution_count": 2,
   "metadata": {},
   "outputs": [],
   "source": [
    "def is_val_generator(x, n, order):\n",
    "    for i in range(1,order+1):\n",
    "        if x**i % n == 1:\n",
    "            if i == order: # is a generator\n",
    "                return True\n",
    "            elif i < order:\n",
    "                return False\n",
    "    return False"
   ]
  },
  {
   "cell_type": "code",
   "execution_count": 3,
   "metadata": {},
   "outputs": [
    {
     "name": "stdout",
     "output_type": "stream",
     "text": [
      "[2, 6, 7, 11]\n"
     ]
    }
   ],
   "source": [
    "gens = []\n",
    "for val in Z_star_13:\n",
    "    if is_val_generator(val, n, phi_13):\n",
    "        gens.append(val)\n",
    "    \n",
    "print(gens)"
   ]
  },
  {
   "cell_type": "code",
   "execution_count": null,
   "metadata": {},
   "outputs": [],
   "source": []
  }
 ],
 "metadata": {
  "kernelspec": {
   "display_name": "Python 3",
   "language": "python",
   "name": "python3"
  },
  "language_info": {
   "codemirror_mode": {
    "name": "ipython",
    "version": 3
   },
   "file_extension": ".py",
   "mimetype": "text/x-python",
   "name": "python",
   "nbconvert_exporter": "python",
   "pygments_lexer": "ipython3",
   "version": "3.7.4"
  }
 },
 "nbformat": 4,
 "nbformat_minor": 2
}
