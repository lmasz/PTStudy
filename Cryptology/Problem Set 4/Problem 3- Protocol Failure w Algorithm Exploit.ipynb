{
 "cells": [
  {
   "cell_type": "code",
   "execution_count": 10,
   "metadata": {},
   "outputs": [
    {
     "name": "stdout",
     "output_type": "stream",
     "text": [
      "The autoreload extension is already loaded. To reload it, use:\n",
      "  %reload_ext autoreload\n"
     ]
    }
   ],
   "source": [
    "import sys\n",
    "sys.path.append('../')\n",
    "import crypto_utils as utils\n",
    "%load_ext autoreload\n",
    "%autoreload 2"
   ]
  },
  {
   "cell_type": "code",
   "execution_count": 11,
   "metadata": {},
   "outputs": [],
   "source": [
    "# Part a is in handwritten notes"
   ]
  },
  {
   "cell_type": "code",
   "execution_count": 12,
   "metadata": {},
   "outputs": [],
   "source": [
    "n = 18721\n",
    "b1 = 43\n",
    "b2 = 7717\n",
    "y1 = 12677\n",
    "y2 = 14702"
   ]
  },
  {
   "cell_type": "code",
   "execution_count": 13,
   "metadata": {},
   "outputs": [],
   "source": [
    "c1 = utils.mod_inverse(b1, b2)  # c1 = b1^-1 mod b2\n",
    "c2 = (c1*b1 - 1)/b2  # c2 = (c1*b1 - 1)/b2"
   ]
  },
  {
   "cell_type": "code",
   "execution_count": 14,
   "metadata": {},
   "outputs": [
    {
     "name": "stdout",
     "output_type": "stream",
     "text": [
      "5668\n",
      "1\n"
     ]
    }
   ],
   "source": [
    "y1_c1 = utils.ModExp(y1,c1,n, False);\n",
    "y2_c2 = utils.ModExp(y2,int(c2),n, False);\n",
    "y2_c2_inv = utils.mod_inverse(y2_c2,n);\n",
    "print(y2_c2_inv)\n",
    "print(y2_c2_inv*y2_c2 % n)"
   ]
  },
  {
   "cell_type": "code",
   "execution_count": 15,
   "metadata": {},
   "outputs": [
    {
     "name": "stdout",
     "output_type": "stream",
     "text": [
      "15001\n",
      "12677\n",
      "12677\n",
      "True\n"
     ]
    }
   ],
   "source": [
    "x1 = (y1_c1*y2_c2_inv) % n\n",
    "print(x1)\n",
    "\n",
    "# verify answer, should get y1 = 12677\n",
    "test_y1 = x1**b1 % n\n",
    "print(test_y1)\n",
    "print(y1)\n",
    "print(test_y1==y1)"
   ]
  }
 ],
 "metadata": {
  "kernelspec": {
   "display_name": "Python 3",
   "language": "python",
   "name": "python3"
  },
  "language_info": {
   "codemirror_mode": {
    "name": "ipython",
    "version": 3
   },
   "file_extension": ".py",
   "mimetype": "text/x-python",
   "name": "python",
   "nbconvert_exporter": "python",
   "pygments_lexer": "ipython3",
   "version": "3.7.4"
  }
 },
 "nbformat": 4,
 "nbformat_minor": 2
}
