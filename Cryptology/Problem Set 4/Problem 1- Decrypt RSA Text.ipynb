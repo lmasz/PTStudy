{
 "cells": [
  {
   "cell_type": "code",
   "execution_count": 25,
   "metadata": {},
   "outputs": [
    {
     "name": "stdout",
     "output_type": "stream",
     "text": [
      "The autoreload extension is already loaded. To reload it, use:\n",
      "  %reload_ext autoreload\n"
     ]
    }
   ],
   "source": [
    "import sys\n",
    "sys.path.append('../')\n",
    "import crypto_utils as utils\n",
    "%load_ext autoreload\n",
    "%autoreload 2"
   ]
  },
  {
   "cell_type": "code",
   "execution_count": 17,
   "metadata": {},
   "outputs": [],
   "source": [
    "n = 18923\n",
    "b = 1261\n",
    "unit1 = 12423\n",
    "unit2 = 11524\n",
    "unit3 = 7243"
   ]
  },
  {
   "cell_type": "code",
   "execution_count": 18,
   "metadata": {},
   "outputs": [
    {
     "data": {
      "text/plain": [
       "[1, 127, 149, 18923]"
      ]
     },
     "execution_count": 18,
     "metadata": {},
     "output_type": "execute_result"
    }
   ],
   "source": [
    "utils.factor(n)"
   ]
  },
  {
   "cell_type": "code",
   "execution_count": 19,
   "metadata": {},
   "outputs": [
    {
     "name": "stdout",
     "output_type": "stream",
     "text": [
      "18648\n"
     ]
    }
   ],
   "source": [
    "phi_of_n = (127-1)*(149-1)\n",
    "print(phi_of_n)\n",
    "# len(utils.compute_phi(n)) # gets same answer yay"
   ]
  },
  {
   "cell_type": "code",
   "execution_count": 20,
   "metadata": {},
   "outputs": [
    {
     "name": "stdout",
     "output_type": "stream",
     "text": [
      "5797\n"
     ]
    }
   ],
   "source": [
    "a = utils.mod_inverse(b, phi_of_n)\n",
    "print(a)"
   ]
  },
  {
   "cell_type": "code",
   "execution_count": 21,
   "metadata": {},
   "outputs": [],
   "source": [
    "val1 = utils.ModExp(unit1, a, n, debug=False)\n",
    "val2 = utils.ModExp(unit2, a, n, debug=False)\n",
    "val3 = utils.ModExp(unit3, a, n, debug=False)"
   ]
  },
  {
   "cell_type": "code",
   "execution_count": 22,
   "metadata": {},
   "outputs": [],
   "source": [
    "# does the same thing as above\n",
    "# post_exp = unit3**a\n",
    "# post_mod = post_exp % n\n",
    "# print(post_mod)"
   ]
  },
  {
   "cell_type": "code",
   "execution_count": 23,
   "metadata": {},
   "outputs": [
    {
     "name": "stdout",
     "output_type": "stream",
     "text": [
      "2398\n",
      "1371\n",
      "17575\n"
     ]
    }
   ],
   "source": [
    "print(utils.word_2_base26ish(\"DOG\"))\n",
    "print(utils.word_2_base26ish(\"CAT\"))\n",
    "print(utils.word_2_base26ish(\"ZZZ\"))\n",
    "# This is the wrong way, now reverse it"
   ]
  },
  {
   "cell_type": "code",
   "execution_count": 26,
   "metadata": {},
   "outputs": [
    {
     "name": "stdout",
     "output_type": "stream",
     "text": [
      "I B E C A M E I N\n"
     ]
    }
   ],
   "source": [
    "full_text = utils.base26ish_2_word(val1) + utils.base26ish_2_word(val2) + utils.base26ish_2_word(val3)\n",
    "print(' '.join(let[0] for let in full_text))"
   ]
  },
  {
   "cell_type": "code",
   "execution_count": null,
   "metadata": {},
   "outputs": [],
   "source": []
  }
 ],
 "metadata": {
  "kernelspec": {
   "display_name": "Python 3",
   "language": "python",
   "name": "python3"
  },
  "language_info": {
   "codemirror_mode": {
    "name": "ipython",
    "version": 3
   },
   "file_extension": ".py",
   "mimetype": "text/x-python",
   "name": "python",
   "nbconvert_exporter": "python",
   "pygments_lexer": "ipython3",
   "version": "3.7.4"
  }
 },
 "nbformat": 4,
 "nbformat_minor": 2
}
